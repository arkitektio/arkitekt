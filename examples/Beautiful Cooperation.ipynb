{
 "cells": [
  {
   "cell_type": "code",
   "execution_count": 1,
   "id": "2910e217-0b45-4ce4-b86e-0dc099faeb13",
   "metadata": {},
   "outputs": [],
   "source": [
    "\n",
    "from mikro.api.schema import RepresentationVarietyInput,  afrom_xarray, watch_rois,  get_rois, create_roi, InputVector, ROIType, create_sample, acreate_label, create_size_feature, ROIFragment, acreate_roi\n",
    "from mikro.arkitekt import ConnectedApp\n",
    "import xarray as xr\n",
    "import numpy as np\n",
    "from arkitekt.api.schema import find\n",
    "from arkitekt.postmans.utils import use\n",
    "from fakts import Fakts\n",
    "import asyncio"
   ]
  },
  {
   "cell_type": "markdown",
   "id": "67a74ca6",
   "metadata": {},
   "source": [
    "# Cooperation\n",
    "\n",
    "This script is an example skript to show Mikros cooperation abilitiy. we are enabling both arkitekt and\n",
    "mikro side by side, and are interfacing with napari\n"
   ]
  },
  {
   "cell_type": "code",
   "execution_count": 2,
   "id": "8009bab0-cbdb-4105-8c77-2544f3bd899f",
   "metadata": {},
   "outputs": [],
   "source": [
    "app = ConnectedApp(\n",
    "fakts=Fakts(subapp=\"basic\"\n",
    "    ))\n"
   ]
  },
  {
   "cell_type": "code",
   "execution_count": 9,
   "id": "c902d541-942b-4fa0-b313-318101a3cb2c",
   "metadata": {},
   "outputs": [],
   "source": [
    "async with app:\n",
    "    \n",
    "    origin_array = xr.DataArray(data=np.ones((1024, 1024, 3)), dims=list(\"xyc\"))\n",
    "    \n",
    "    x = await afrom_xarray(\n",
    "        origin_array,\n",
    "        name=\"johannes_test\",\n",
    "        variety=RepresentationVarietyInput.VOXEL,\n",
    "    )\n",
    "    \n",
    "    m = await afrom_xarray(\n",
    "        origin_array.max(dim=\"c\"),\n",
    "        name=x.name + \" C-Reduction\",\n",
    "        origins=[x],\n",
    "        variety=RepresentationVarietyInput.VOXEL,\n",
    "    )\n",
    "    \n",
    "    nuclei = range(0,20)\n",
    "    futures = []\n",
    "    \n",
    "    labels = [acreate_label(representation= x, instance=n, creator=1, name=f\"Nuclei {n}\") for n in nuclei]\n",
    "    t = await asyncio.gather(*labels)\n",
    "    \n",
    "    \n",
    "    \n",
    "    "
   ]
  },
  {
   "cell_type": "code",
   "execution_count": 10,
   "id": "87b71078-5bb5-4117-8a0d-bde6005e3bf7",
   "metadata": {},
   "outputs": [
    {
     "name": "stderr",
     "output_type": "stream",
     "text": [
      "/tmp/ipykernel_46417/417120453.py:1: UserWarning: Callable _defined_nodes_1 was excluded from schema since JSON schema has no equivalent type.\n",
      "  app.schema()\n",
      "/tmp/ipykernel_46417/417120453.py:1: UserWarning: Callable _templated_nodes_1 was excluded from schema since JSON schema has no equivalent type.\n",
      "  app.schema()\n",
      "/tmp/ipykernel_46417/417120453.py:1: UserWarning: Callable abroadcast was excluded from schema since JSON schema has no equivalent type.\n",
      "  app.schema()\n"
     ]
    },
    {
     "data": {
      "text/plain": [
       "{'title': 'ConnectedApp',\n",
       " 'description': 'A connected app composed\\nof both a Mikro App and a Arkitekt App.',\n",
       " 'type': 'object',\n",
       " 'properties': {'koil': {'$ref': '#/definitions/PedanticKoil'},\n",
       "  'fakts': {'$ref': '#/definitions/Fakts'},\n",
       "  'herre': {'$ref': '#/definitions/Herre'},\n",
       "  'arkitekt': {'$ref': '#/definitions/Arkitekt'},\n",
       "  'mikro': {'$ref': '#/definitions/Mikro'}},\n",
       " 'definitions': {'PedanticKoil': {'title': 'PedanticKoil',\n",
       "   'type': 'object',\n",
       "   'properties': {'creating_instance': {'title': 'Creating Instance'},\n",
       "    'running': {'title': 'Running', 'default': False, 'type': 'boolean'},\n",
       "    'name': {'title': 'Name', 'default': 'KoilLoop', 'type': 'string'},\n",
       "    'uvify': {'title': 'Uvify', 'default': True, 'type': 'boolean'},\n",
       "    'grace_period': {'title': 'Grace Period', 'type': 'number'},\n",
       "    'grant_sync': {'title': 'Grant Sync',\n",
       "     'default': True,\n",
       "     'type': 'boolean'}}},\n",
       "  'FaktsGrant': {'title': 'FaktsGrant', 'type': 'object', 'properties': {}},\n",
       "  'FaktsMiddleware': {'title': 'FaktsMiddleware',\n",
       "   'type': 'object',\n",
       "   'properties': {}},\n",
       "  'Fakts': {'title': 'Fakts',\n",
       "   'type': 'object',\n",
       "   'properties': {'koil': {'$ref': '#/definitions/PedanticKoil'},\n",
       "    'grants': {'title': 'Grants',\n",
       "     'type': 'array',\n",
       "     'items': {'$ref': '#/definitions/FaktsGrant'}},\n",
       "    'middlewares': {'title': 'Middlewares',\n",
       "     'type': 'array',\n",
       "     'items': {'$ref': '#/definitions/FaktsMiddleware'}},\n",
       "    'hard_fakts': {'title': 'Hard Fakts', 'type': 'object'},\n",
       "    'assert_groups': {'title': 'Assert Groups',\n",
       "     'type': 'array',\n",
       "     'items': {'type': 'string'},\n",
       "     'uniqueItems': True},\n",
       "    'loaded_fakts': {'title': 'Loaded Fakts', 'type': 'object'},\n",
       "    'subapp': {'title': 'Subapp', 'default': '', 'type': 'string'},\n",
       "    'fakts_path': {'title': 'Fakts Path',\n",
       "     'default': 'fakts.yaml',\n",
       "     'type': 'string'},\n",
       "    'force_refresh': {'title': 'Force Refresh',\n",
       "     'default': False,\n",
       "     'type': 'boolean'},\n",
       "    'load_on_enter': {'title': 'Load On Enter',\n",
       "     'default': True,\n",
       "     'type': 'boolean'},\n",
       "    'delete_on_exit': {'title': 'Delete On Exit',\n",
       "     'default': False,\n",
       "     'type': 'boolean'}}},\n",
       "  'BaseGrant': {'title': 'BaseGrant', 'type': 'object', 'properties': {}},\n",
       "  'Herre': {'title': 'Herre',\n",
       "   'type': 'object',\n",
       "   'properties': {'koil': {'$ref': '#/definitions/PedanticKoil'},\n",
       "    'grant': {'$ref': '#/definitions/BaseGrant'},\n",
       "    'base_url': {'title': 'Base Url', 'default': '', 'type': 'string'},\n",
       "    'client_id': {'title': 'Client Id',\n",
       "     'default': '',\n",
       "     'type': 'string',\n",
       "     'writeOnly': True,\n",
       "     'format': 'password'},\n",
       "    'client_secret': {'title': 'Client Secret',\n",
       "     'default': '',\n",
       "     'type': 'string',\n",
       "     'writeOnly': True,\n",
       "     'format': 'password'},\n",
       "    'scopes': {'title': 'Scopes',\n",
       "     'type': 'array',\n",
       "     'items': {'type': 'string'}},\n",
       "    'authorize_path': {'title': 'Authorize Path',\n",
       "     'default': 'authorize',\n",
       "     'type': 'string'},\n",
       "    'refresh_path': {'title': 'Refresh Path',\n",
       "     'default': 'token',\n",
       "     'type': 'string'},\n",
       "    'token_path': {'title': 'Token Path',\n",
       "     'default': 'token',\n",
       "     'type': 'string'},\n",
       "    'token_file': {'title': 'Token File',\n",
       "     'default': 'token.temp',\n",
       "     'type': 'string'},\n",
       "    'userinfo_path': {'title': 'Userinfo Path',\n",
       "     'default': 'userinfo',\n",
       "     'type': 'string'},\n",
       "    'max_retries': {'title': 'Max Retries', 'default': 1, 'type': 'integer'},\n",
       "    'allow_insecure': {'title': 'Allow Insecure',\n",
       "     'default': False,\n",
       "     'type': 'boolean'},\n",
       "    'scope_delimiter': {'title': 'Scope Delimiter',\n",
       "     'default': ' ',\n",
       "     'type': 'string'},\n",
       "    'login_on_enter': {'title': 'Login On Enter',\n",
       "     'default': False,\n",
       "     'type': 'boolean'},\n",
       "    'logout_on_exit': {'title': 'Logout On Exit',\n",
       "     'default': False,\n",
       "     'type': 'boolean'},\n",
       "    'no_temp': {'title': 'No Temp', 'default': False, 'type': 'boolean'},\n",
       "    'append_trailing_slash': {'title': 'Append Trailing Slash',\n",
       "     'default': True,\n",
       "     'type': 'boolean'},\n",
       "    'entered': {'title': 'Entered', 'default': False, 'type': 'boolean'}},\n",
       "   'additionalProperties': False},\n",
       "  'TerminatingLink': {'title': 'TerminatingLink',\n",
       "   'type': 'object',\n",
       "   'properties': {'koil': {'$ref': '#/definitions/PedanticKoil'}}},\n",
       "  'ArkitektRath': {'title': 'ArkitektRath',\n",
       "   'description': '_summary_\\n\\nArgs:\\n    rath (_type_): _description_',\n",
       "   'type': 'object',\n",
       "   'properties': {'koil': {'$ref': '#/definitions/PedanticKoil'},\n",
       "    'link': {'$ref': '#/definitions/TerminatingLink'},\n",
       "    'set_context': {'title': 'Set Context',\n",
       "     'default': True,\n",
       "     'type': 'boolean'}}},\n",
       "  'StructureRegistry': {'title': 'StructureRegistry',\n",
       "   'type': 'object',\n",
       "   'properties': {'copy_from_default': {'title': 'Copy From Default',\n",
       "     'default': False,\n",
       "     'type': 'boolean'},\n",
       "    'allow_overwrites': {'title': 'Allow Overwrites',\n",
       "     'default': True,\n",
       "     'type': 'boolean'},\n",
       "    'allow_auto_register': {'title': 'Allow Auto Register',\n",
       "     'default': False,\n",
       "     'type': 'boolean'}}},\n",
       "  'DefinitionRegistry': {'title': 'DefinitionRegistry',\n",
       "   'type': 'object',\n",
       "   'properties': {'koil': {'$ref': '#/definitions/PedanticKoil'},\n",
       "    'structure_registry': {'$ref': '#/definitions/StructureRegistry'},\n",
       "    'copy_from_default': {'title': 'Copy From Default',\n",
       "     'default': False,\n",
       "     'type': 'boolean'}}},\n",
       "  'AgentTransport': {'title': 'AgentTransport',\n",
       "   'description': 'Agent Transport\\n\\nA Transport is a means of communicating with an Agent. It is responsible for sending\\nand receiving messages from the backend. It needs to implement the following methods:\\n\\nlist_provision: Getting the list of active provisions from the backend. (depends on the backend)\\nlist_assignation: Getting the list of active assignations from the backend. (depends on the backend)\\n\\nchange_assignation: Changing the status of an assignation. (depends on the backend)\\nchange_provision: Changing the status of an provision. (depends on the backend)\\n\\nbroadcast: Configuring the callbacks for the transport on new assignation, unassignation provision and unprovison.\\n\\nif it is a stateful connection it can also implement the following methods:\\n\\naconnect\\nadisconnect',\n",
       "   'type': 'object',\n",
       "   'properties': {'koil': {'$ref': '#/definitions/PedanticKoil'}}},\n",
       "  'BaseAgent': {'title': 'BaseAgent',\n",
       "   'description': 'Agent\\n\\nAgents are the governing entities in the arkitekt system. They are responsible for\\nspawning and managing the lifecycle of Actors and registering Templates with the help\\nof the DefinitionRegistry.',\n",
       "   'type': 'object',\n",
       "   'properties': {'koil': {'$ref': '#/definitions/PedanticKoil'},\n",
       "    'transport': {'$ref': '#/definitions/AgentTransport'},\n",
       "    'definition_registry': {'$ref': '#/definitions/DefinitionRegistry'},\n",
       "    'rath': {'$ref': '#/definitions/ArkitektRath'}}},\n",
       "  'PostmanTransport': {'title': 'PostmanTransport',\n",
       "   'type': 'object',\n",
       "   'properties': {'koil': {'$ref': '#/definitions/PedanticKoil'},\n",
       "    'instance_id': {'title': 'Instance Id', 'type': 'string'}}},\n",
       "  'BasePostman': {'title': 'BasePostman',\n",
       "   'type': 'object',\n",
       "   'properties': {'koil': {'$ref': '#/definitions/PedanticKoil'},\n",
       "    'transport': {'$ref': '#/definitions/PostmanTransport'}}},\n",
       "  'Arkitekt': {'title': 'Arkitekt',\n",
       "   'type': 'object',\n",
       "   'properties': {'koil': {'$ref': '#/definitions/PedanticKoil'},\n",
       "    'rath': {'$ref': '#/definitions/ArkitektRath'},\n",
       "    'structure_registry': {'$ref': '#/definitions/StructureRegistry'},\n",
       "    'definition_registry': {'$ref': '#/definitions/DefinitionRegistry'},\n",
       "    'agent': {'$ref': '#/definitions/BaseAgent'},\n",
       "    'postman': {'$ref': '#/definitions/BasePostman'}},\n",
       "   'additionalProperties': False},\n",
       "  'DataLayer': {'title': 'DataLayer',\n",
       "   'description': 'Implements a S3 DataLayer\\n\\nThis will be used to upload and download files from S3.\\nMake sure to set the access_key and secret_key and enter the context\\nmanager to connect to S3 (if authentication is required for the S3 instance\\nand to ensure that the context is exited when the context manager is exited\\n(for future cleanup purposes on other datalayers).\\n\\nAttributes:\\n    fs (s3fs.S3FileSystem): The filesystem object',\n",
       "   'type': 'object',\n",
       "   'properties': {'koil': {'$ref': '#/definitions/PedanticKoil'},\n",
       "    'access_key': {'title': 'Access Key',\n",
       "     'default': '',\n",
       "     'type': 'string',\n",
       "     'writeOnly': True,\n",
       "     'format': 'password'},\n",
       "    'secret_key': {'title': 'Secret Key',\n",
       "     'default': '',\n",
       "     'type': 'string',\n",
       "     'writeOnly': True,\n",
       "     'format': 'password'},\n",
       "    'endpoint_url': {'title': 'Endpoint Url',\n",
       "     'default': '',\n",
       "     'type': 'string'}}},\n",
       "  'MikroRath': {'title': 'MikroRath',\n",
       "   'type': 'object',\n",
       "   'properties': {'koil': {'$ref': '#/definitions/PedanticKoil'},\n",
       "    'link': {'$ref': '#/definitions/TerminatingLink'},\n",
       "    'set_context': {'title': 'Set Context',\n",
       "     'default': True,\n",
       "     'type': 'boolean'}}},\n",
       "  'Mikro': {'title': 'Mikro',\n",
       "   'type': 'object',\n",
       "   'properties': {'koil': {'$ref': '#/definitions/PedanticKoil'},\n",
       "    'datalayer': {'$ref': '#/definitions/DataLayer'},\n",
       "    'rath': {'$ref': '#/definitions/MikroRath'}}}}}"
      ]
     },
     "execution_count": 10,
     "metadata": {},
     "output_type": "execute_result"
    }
   ],
   "source": [
    "app.schema()"
   ]
  },
  {
   "cell_type": "code",
   "execution_count": 12,
   "id": "e030d44a-585e-474d-bb47-665d8fdbb0a3",
   "metadata": {},
   "outputs": [],
   "source": [
    "async with app:\n",
    "    roi = await acreate_roi(representation= x, vectors=[InputVector(x=100,y=65), InputVector(x=200,y=34), InputVector(x=300,y=2), InputVector(x=400,y=2)], type=ROIType.RECTANGLE, creator=1)"
   ]
  },
  {
   "cell_type": "code",
   "execution_count": 13,
   "id": "5593acc0-a0fe-4c0b-ba79-6859f1e508f6",
   "metadata": {},
   "outputs": [
    {
     "data": {
      "text/plain": [
       "ROIFragment(id='890', typename=None, vectors=[ROIFragmentVectors(typename=None, x=100.0, y=65.0, z=None), ROIFragmentVectors(typename=None, x=200.0, y=34.0, z=None), ROIFragmentVectors(typename=None, x=300.0, y=2.0, z=None), ROIFragmentVectors(typename=None, x=400.0, y=2.0, z=None)], type=<ROIType.RECTANGLE: 'RECTANGLE'>, representation=ROIFragmentRepresentation(id='198', typename=None), creator=ROIFragmentCreator(typename=None, email='', color='#FF0000'))"
      ]
     },
     "execution_count": 13,
     "metadata": {},
     "output_type": "execute_result"
    }
   ],
   "source": [
    "roi"
   ]
  },
  {
   "cell_type": "code",
   "execution_count": 12,
   "id": "3c53b21a-2a64-4861-9b3f-22197f532228",
   "metadata": {},
   "outputs": [
    {
     "ename": "StructureRegistryError",
     "evalue": "<class 'mikro.api.schema.ROIFragment'> is not registered and allow_auto_register is set to False. Please make sure to register this type beforehand or set allow_auto_register to True",
     "output_type": "error",
     "traceback": [
      "\u001b[0;31m---------------------------------------------------------------------------\u001b[0m",
      "\u001b[0;31mKeyError\u001b[0m                                  Traceback (most recent call last)",
      "\u001b[0;32m~/Code/testing/arkitekt/structures/registry.py\u001b[0m in \u001b[0;36mget_identifier_for_structure\u001b[0;34m(self, cls)\u001b[0m\n\u001b[1;32m     54\u001b[0m         \u001b[0;32mtry\u001b[0m\u001b[0;34m:\u001b[0m\u001b[0;34m\u001b[0m\u001b[0;34m\u001b[0m\u001b[0m\n\u001b[0;32m---> 55\u001b[0;31m             \u001b[0;32mreturn\u001b[0m \u001b[0mself\u001b[0m\u001b[0;34m.\u001b[0m\u001b[0m_structure_identifier_map\u001b[0m\u001b[0;34m[\u001b[0m\u001b[0mcls\u001b[0m\u001b[0;34m]\u001b[0m\u001b[0;34m\u001b[0m\u001b[0;34m\u001b[0m\u001b[0m\n\u001b[0m\u001b[1;32m     56\u001b[0m         \u001b[0;32mexcept\u001b[0m \u001b[0mKeyError\u001b[0m \u001b[0;32mas\u001b[0m \u001b[0me\u001b[0m\u001b[0;34m:\u001b[0m\u001b[0;34m\u001b[0m\u001b[0;34m\u001b[0m\u001b[0m\n",
      "\u001b[0;31mKeyError\u001b[0m: <class 'mikro.api.schema.ROIFragment'>",
      "\nThe above exception was the direct cause of the following exception:\n",
      "\u001b[0;31mStructureRegistryError\u001b[0m                    Traceback (most recent call last)",
      "\u001b[0;32m/tmp/ipykernel_246712/2909131044.py\u001b[0m in \u001b[0;36m<module>\u001b[0;34m\u001b[0m\n\u001b[1;32m      1\u001b[0m \u001b[0;34m@\u001b[0m\u001b[0mapp\u001b[0m\u001b[0;34m.\u001b[0m\u001b[0markitekt\u001b[0m\u001b[0;34m.\u001b[0m\u001b[0mregister\u001b[0m\u001b[0;34m(\u001b[0m\u001b[0;34m)\u001b[0m\u001b[0;34m\u001b[0m\u001b[0;34m\u001b[0m\u001b[0m\n\u001b[0;32m----> 2\u001b[0;31m \u001b[0;32mdef\u001b[0m \u001b[0mcreate_random_image_and_random_roi\u001b[0m\u001b[0;34m(\u001b[0m\u001b[0;34m)\u001b[0m \u001b[0;34m->\u001b[0m \u001b[0mROIFragment\u001b[0m\u001b[0;34m:\u001b[0m\u001b[0;34m\u001b[0m\u001b[0;34m\u001b[0m\u001b[0m\n\u001b[0m\u001b[1;32m      3\u001b[0m     x =  from_xarray(\n\u001b[1;32m      4\u001b[0m         \u001b[0mxr\u001b[0m\u001b[0;34m.\u001b[0m\u001b[0mDataArray\u001b[0m\u001b[0;34m(\u001b[0m\u001b[0mdata\u001b[0m\u001b[0;34m=\u001b[0m\u001b[0mnp\u001b[0m\u001b[0;34m.\u001b[0m\u001b[0mrandom\u001b[0m\u001b[0;34m.\u001b[0m\u001b[0mrandom\u001b[0m\u001b[0;34m(\u001b[0m\u001b[0;34m(\u001b[0m\u001b[0;36m1024\u001b[0m\u001b[0;34m,\u001b[0m \u001b[0;36m1024\u001b[0m\u001b[0;34m,\u001b[0m \u001b[0;36m3\u001b[0m\u001b[0;34m)\u001b[0m\u001b[0;34m)\u001b[0m\u001b[0;34m,\u001b[0m \u001b[0mdims\u001b[0m\u001b[0;34m=\u001b[0m\u001b[0mlist\u001b[0m\u001b[0;34m(\u001b[0m\u001b[0;34m\"xyc\"\u001b[0m\u001b[0;34m)\u001b[0m\u001b[0;34m)\u001b[0m\u001b[0;34m,\u001b[0m\u001b[0;34m\u001b[0m\u001b[0;34m\u001b[0m\u001b[0m\n\u001b[1;32m      5\u001b[0m         \u001b[0mname\u001b[0m\u001b[0;34m=\u001b[0m\u001b[0;34m\"johannes_test\"\u001b[0m\u001b[0;34m,\u001b[0m\u001b[0;34m\u001b[0m\u001b[0;34m\u001b[0m\u001b[0m\n",
      "\u001b[0;32m~/Code/testing/arkitekt/compositions/base.py\u001b[0m in \u001b[0;36mreal_decorator\u001b[0;34m(function)\u001b[0m\n\u001b[1;32m     55\u001b[0m                 \u001b[0;32mreturn\u001b[0m \u001b[0mfunction\u001b[0m\u001b[0;34m(\u001b[0m\u001b[0;34m*\u001b[0m\u001b[0margs\u001b[0m\u001b[0;34m,\u001b[0m \u001b[0;34m**\u001b[0m\u001b[0mkwargs\u001b[0m\u001b[0;34m)\u001b[0m\u001b[0;34m\u001b[0m\u001b[0;34m\u001b[0m\u001b[0m\n\u001b[1;32m     56\u001b[0m \u001b[0;34m\u001b[0m\u001b[0m\n\u001b[0;32m---> 57\u001b[0;31m             self.definition_registry.register(\n\u001b[0m\u001b[1;32m     58\u001b[0m                 \u001b[0mfunction\u001b[0m\u001b[0;34m,\u001b[0m\u001b[0;34m\u001b[0m\u001b[0;34m\u001b[0m\u001b[0m\n\u001b[1;32m     59\u001b[0m                 \u001b[0mbuilder\u001b[0m\u001b[0;34m=\u001b[0m\u001b[0mbuilder\u001b[0m\u001b[0;34m,\u001b[0m\u001b[0;34m\u001b[0m\u001b[0;34m\u001b[0m\u001b[0m\n",
      "\u001b[0;32m~/Code/testing/arkitekt/definition/registry.py\u001b[0m in \u001b[0;36mregister\u001b[0;34m(self, function, builder, widgets, interfaces, on_provide, on_unprovide, structure_registry, **actorparams)\u001b[0m\n\u001b[1;32m     95\u001b[0m         )\n\u001b[1;32m     96\u001b[0m \u001b[0;34m\u001b[0m\u001b[0m\n\u001b[0;32m---> 97\u001b[0;31m         definition = prepare_definition(\n\u001b[0m\u001b[1;32m     98\u001b[0m             \u001b[0mfunction\u001b[0m\u001b[0;34m=\u001b[0m\u001b[0mfunction\u001b[0m\u001b[0;34m,\u001b[0m\u001b[0;34m\u001b[0m\u001b[0;34m\u001b[0m\u001b[0m\n\u001b[1;32m     99\u001b[0m             \u001b[0mwidgets\u001b[0m\u001b[0;34m=\u001b[0m\u001b[0mwidgets\u001b[0m\u001b[0;34m,\u001b[0m\u001b[0;34m\u001b[0m\u001b[0;34m\u001b[0m\u001b[0m\n",
      "\u001b[0;32m~/Code/testing/arkitekt/definition/define.py\u001b[0m in \u001b[0;36mprepare_definition\u001b[0;34m(function, widgets, allow_empty_doc, interfaces, structure_registry)\u001b[0m\n\u001b[1;32m    290\u001b[0m         \u001b[0;32melif\u001b[0m \u001b[0mfunction_outs_annotation\u001b[0m\u001b[0;34m.\u001b[0m\u001b[0m__name__\u001b[0m \u001b[0;34m!=\u001b[0m \u001b[0;34m\"_empty\"\u001b[0m\u001b[0;34m:\u001b[0m  \u001b[0;31m# Is it not empty\u001b[0m\u001b[0;34m\u001b[0m\u001b[0;34m\u001b[0m\u001b[0m\n\u001b[1;32m    291\u001b[0m             returns.append(\n\u001b[0;32m--> 292\u001b[0;31m                 convert_return_to_returnport(\n\u001b[0m\u001b[1;32m    293\u001b[0m                     \u001b[0mfunction_outs_annotation\u001b[0m\u001b[0;34m,\u001b[0m \u001b[0mstructure_registry\u001b[0m\u001b[0;34m\u001b[0m\u001b[0;34m\u001b[0m\u001b[0m\n\u001b[1;32m    294\u001b[0m                 )\n",
      "\u001b[0;32m~/Code/testing/arkitekt/definition/define.py\u001b[0m in \u001b[0;36mconvert_return_to_returnport\u001b[0;34m(cls, registry, key)\u001b[0m\n\u001b[1;32m    189\u001b[0m             )\n\u001b[1;32m    190\u001b[0m \u001b[0;34m\u001b[0m\u001b[0m\n\u001b[0;32m--> 191\u001b[0;31m     \u001b[0midentifier\u001b[0m \u001b[0;34m=\u001b[0m \u001b[0mregistry\u001b[0m\u001b[0;34m.\u001b[0m\u001b[0mget_identifier_for_structure\u001b[0m\u001b[0;34m(\u001b[0m\u001b[0mcls\u001b[0m\u001b[0;34m)\u001b[0m\u001b[0;34m\u001b[0m\u001b[0;34m\u001b[0m\u001b[0m\n\u001b[0m\u001b[1;32m    192\u001b[0m \u001b[0;34m\u001b[0m\u001b[0m\n\u001b[1;32m    193\u001b[0m     return ReturnPortInput(\n",
      "\u001b[0;32m~/Code/testing/arkitekt/structures/registry.py\u001b[0m in \u001b[0;36mget_identifier_for_structure\u001b[0;34m(self, cls)\u001b[0m\n\u001b[1;32m     64\u001b[0m                     ) from e\n\u001b[1;32m     65\u001b[0m             \u001b[0;32melse\u001b[0m\u001b[0;34m:\u001b[0m\u001b[0;34m\u001b[0m\u001b[0;34m\u001b[0m\u001b[0m\n\u001b[0;32m---> 66\u001b[0;31m                 raise StructureRegistryError(\n\u001b[0m\u001b[1;32m     67\u001b[0m                     \u001b[0;34mf\"{cls} is not registered and allow_auto_register is set to False. Please make sure to register this type beforehand or set allow_auto_register to True\"\u001b[0m\u001b[0;34m\u001b[0m\u001b[0;34m\u001b[0m\u001b[0m\n\u001b[1;32m     68\u001b[0m                 ) from e\n",
      "\u001b[0;31mStructureRegistryError\u001b[0m: <class 'mikro.api.schema.ROIFragment'> is not registered and allow_auto_register is set to False. Please make sure to register this type beforehand or set allow_auto_register to True"
     ]
    }
   ],
   "source": [
    "\n",
    "@app.arkitekt.register()\n",
    "def create_random_image_and_random_roi() -> ROIFragment:\n",
    "    x =  from_xarray(\n",
    "        xr.DataArray(data=np.random.random((1024, 1024, 3)), dims=list(\"xyc\")),\n",
    "        name=\"johannes_test\",\n",
    "        variety=RepresentationVarietyInput.VOXEL,\n",
    "    )\n",
    "\n",
    "    roi = create_roi(representation= x, vectors=[InputVector(x=100,y=65), InputVector(x=200,y=34), InputVector(x=300,y=2), InputVector(x=400,y=2)], type=ROIType.RECTANGLE)\n",
    "    return roi\n",
    "\n"
   ]
  },
  {
   "cell_type": "code",
   "execution_count": null,
   "id": "03e1a412-62be-4901-8c8a-dd9095b087f6",
   "metadata": {},
   "outputs": [],
   "source": [
    "x.id"
   ]
  },
  {
   "cell_type": "code",
   "execution_count": 31,
   "id": "794f4159-92d6-4165-ba40-c6414600d9d4",
   "metadata": {},
   "outputs": [
    {
     "ename": "NotConnectedError",
     "evalue": "Rath is not connected. Please use `async with Rath(...) as rath` or use `await rath.aconnect() before`",
     "output_type": "error",
     "traceback": [
      "\u001b[0;31m---------------------------------------------------------------------------\u001b[0m",
      "\u001b[0;31mNotConnectedError\u001b[0m                         Traceback (most recent call last)",
      "\u001b[0;32m/tmp/ipykernel_268256/3291557630.py\u001b[0m in \u001b[0;36m<module>\u001b[0;34m\u001b[0m\n\u001b[0;32m----> 1\u001b[0;31m \u001b[0;32masync\u001b[0m \u001b[0;32mfor\u001b[0m \u001b[0mi\u001b[0m \u001b[0;32min\u001b[0m \u001b[0mawatch_rois\u001b[0m\u001b[0;34m(\u001b[0m\u001b[0;34m\"122\"\u001b[0m\u001b[0;34m)\u001b[0m\u001b[0;34m:\u001b[0m\u001b[0;34m\u001b[0m\u001b[0;34m\u001b[0m\u001b[0m\n\u001b[0m\u001b[1;32m      2\u001b[0m     \u001b[0mprint\u001b[0m\u001b[0;34m(\u001b[0m\u001b[0mi\u001b[0m\u001b[0;34m)\u001b[0m\u001b[0;34m\u001b[0m\u001b[0;34m\u001b[0m\u001b[0m\n",
      "\u001b[0;32m~/Code/testing/mikro/api/schema.py\u001b[0m in \u001b[0;36mawatch_rois\u001b[0;34m(representation, rath)\u001b[0m\n\u001b[1;32m   1566\u001b[0m     \u001b[0mReturns\u001b[0m\u001b[0;34m:\u001b[0m\u001b[0;34m\u001b[0m\u001b[0;34m\u001b[0m\u001b[0m\n\u001b[1;32m   1567\u001b[0m         Watch_roisSubscriptionRois\"\"\"\n\u001b[0;32m-> 1568\u001b[0;31m     async for event in asubscribe(\n\u001b[0m\u001b[1;32m   1569\u001b[0m         \u001b[0mWatch_roisSubscription\u001b[0m\u001b[0;34m,\u001b[0m \u001b[0;34m{\u001b[0m\u001b[0;34m\"representation\"\u001b[0m\u001b[0;34m:\u001b[0m \u001b[0mrepresentation\u001b[0m\u001b[0;34m}\u001b[0m\u001b[0;34m,\u001b[0m \u001b[0mrath\u001b[0m\u001b[0;34m=\u001b[0m\u001b[0mrath\u001b[0m\u001b[0;34m\u001b[0m\u001b[0;34m\u001b[0m\u001b[0m\n\u001b[1;32m   1570\u001b[0m     ):\n",
      "\u001b[0;32m~/Code/testing/mikro/funcs.py\u001b[0m in \u001b[0;36masubscribe\u001b[0;34m(operation, variables, rath)\u001b[0m\n\u001b[1;32m     29\u001b[0m \u001b[0;32masync\u001b[0m \u001b[0;32mdef\u001b[0m \u001b[0masubscribe\u001b[0m\u001b[0;34m(\u001b[0m\u001b[0moperation\u001b[0m\u001b[0;34m,\u001b[0m \u001b[0mvariables\u001b[0m\u001b[0;34m,\u001b[0m \u001b[0mrath\u001b[0m\u001b[0;34m:\u001b[0m \u001b[0mMikroRath\u001b[0m \u001b[0;34m=\u001b[0m \u001b[0;32mNone\u001b[0m\u001b[0;34m)\u001b[0m\u001b[0;34m:\u001b[0m\u001b[0;34m\u001b[0m\u001b[0;34m\u001b[0m\u001b[0m\n\u001b[1;32m     30\u001b[0m     \u001b[0mrath\u001b[0m \u001b[0;34m=\u001b[0m \u001b[0mrath\u001b[0m \u001b[0;32mor\u001b[0m \u001b[0mcurrent_mikro_rath\u001b[0m\u001b[0;34m.\u001b[0m\u001b[0mget\u001b[0m\u001b[0;34m(\u001b[0m\u001b[0;34m)\u001b[0m\u001b[0;34m\u001b[0m\u001b[0;34m\u001b[0m\u001b[0m\n\u001b[0;32m---> 31\u001b[0;31m     async for event in rath.asubscribe(\n\u001b[0m\u001b[1;32m     32\u001b[0m         \u001b[0moperation\u001b[0m\u001b[0;34m.\u001b[0m\u001b[0mMeta\u001b[0m\u001b[0;34m.\u001b[0m\u001b[0mdocument\u001b[0m\u001b[0;34m,\u001b[0m\u001b[0;34m\u001b[0m\u001b[0;34m\u001b[0m\u001b[0m\n\u001b[1;32m     33\u001b[0m         \u001b[0mvariables\u001b[0m\u001b[0;34m,\u001b[0m\u001b[0;34m\u001b[0m\u001b[0;34m\u001b[0m\u001b[0m\n",
      "\u001b[0;32m~/Code/testing/rath/rath.py\u001b[0m in \u001b[0;36masubscribe\u001b[0;34m(self, query, variables, headers, operation_name, **kwargs)\u001b[0m\n\u001b[1;32m     82\u001b[0m     ) -> AsyncIterator[GraphQLResult]:\n\u001b[1;32m     83\u001b[0m         \u001b[0;32mif\u001b[0m \u001b[0;32mnot\u001b[0m \u001b[0mself\u001b[0m\u001b[0;34m.\u001b[0m\u001b[0m_connected\u001b[0m\u001b[0;34m:\u001b[0m\u001b[0;34m\u001b[0m\u001b[0;34m\u001b[0m\u001b[0m\n\u001b[0;32m---> 84\u001b[0;31m             raise NotConnectedError(\n\u001b[0m\u001b[1;32m     85\u001b[0m                 \u001b[0;34m\"Rath is not connected. Please use `async with Rath(...) as rath` or use `await rath.aconnect() before`\"\u001b[0m\u001b[0;34m\u001b[0m\u001b[0;34m\u001b[0m\u001b[0m\n\u001b[1;32m     86\u001b[0m             )\n",
      "\u001b[0;31mNotConnectedError\u001b[0m: Rath is not connected. Please use `async with Rath(...) as rath` or use `await rath.aconnect() before`"
     ]
    }
   ],
   "source": []
  },
  {
   "cell_type": "code",
   "execution_count": 9,
   "id": "0848a8f3-8ad5-4550-b0c0-6587987a6fa1",
   "metadata": {},
   "outputs": [
    {
     "data": {
      "text/plain": [
       "[]"
      ]
     },
     "execution_count": 9,
     "metadata": {},
     "output_type": "execute_result"
    }
   ],
   "source": [
    "get_rois(x.id)"
   ]
  },
  {
   "cell_type": "code",
   "execution_count": 16,
   "id": "7db4f4c0-7dc6-4737-9f78-7ebe8851de11",
   "metadata": {},
   "outputs": [
    {
     "ename": "AttributeError",
     "evalue": "'NoneType' object has no attribute 'execute'",
     "output_type": "error",
     "traceback": [
      "\u001b[0;31m---------------------------------------------------------------------------\u001b[0m",
      "\u001b[0;31mAttributeError\u001b[0m                            Traceback (most recent call last)",
      "\u001b[0;32m/tmp/ipykernel_268256/3163441616.py\u001b[0m in \u001b[0;36m<module>\u001b[0;34m\u001b[0m\n\u001b[0;32m----> 1\u001b[0;31m \u001b[0mcreate_roi\u001b[0m\u001b[0;34m(\u001b[0m\u001b[0mx\u001b[0m\u001b[0;34m.\u001b[0m\u001b[0mid\u001b[0m\u001b[0;34m,\u001b[0m \u001b[0mvectors\u001b[0m\u001b[0;34m=\u001b[0m\u001b[0;34m[\u001b[0m\u001b[0mInputVector\u001b[0m\u001b[0;34m(\u001b[0m\u001b[0mx\u001b[0m\u001b[0;34m=\u001b[0m\u001b[0;36m100\u001b[0m\u001b[0;34m,\u001b[0m\u001b[0my\u001b[0m\u001b[0;34m=\u001b[0m\u001b[0;36m65\u001b[0m\u001b[0;34m)\u001b[0m\u001b[0;34m,\u001b[0m \u001b[0mInputVector\u001b[0m\u001b[0;34m(\u001b[0m\u001b[0mx\u001b[0m\u001b[0;34m=\u001b[0m\u001b[0;36m200\u001b[0m\u001b[0;34m,\u001b[0m\u001b[0my\u001b[0m\u001b[0;34m=\u001b[0m\u001b[0;36m34\u001b[0m\u001b[0;34m)\u001b[0m\u001b[0;34m,\u001b[0m \u001b[0mInputVector\u001b[0m\u001b[0;34m(\u001b[0m\u001b[0mx\u001b[0m\u001b[0;34m=\u001b[0m\u001b[0;36m300\u001b[0m\u001b[0;34m,\u001b[0m\u001b[0my\u001b[0m\u001b[0;34m=\u001b[0m\u001b[0;36m2\u001b[0m\u001b[0;34m)\u001b[0m\u001b[0;34m,\u001b[0m \u001b[0mInputVector\u001b[0m\u001b[0;34m(\u001b[0m\u001b[0mx\u001b[0m\u001b[0;34m=\u001b[0m\u001b[0;36m400\u001b[0m\u001b[0;34m,\u001b[0m\u001b[0my\u001b[0m\u001b[0;34m=\u001b[0m\u001b[0;36m2\u001b[0m\u001b[0;34m)\u001b[0m\u001b[0;34m]\u001b[0m\u001b[0;34m,\u001b[0m \u001b[0mtype\u001b[0m\u001b[0;34m=\u001b[0m\u001b[0mROIType\u001b[0m\u001b[0;34m.\u001b[0m\u001b[0mRECTANGLE\u001b[0m\u001b[0;34m)\u001b[0m\u001b[0;34m\u001b[0m\u001b[0;34m\u001b[0m\u001b[0m\n\u001b[0m",
      "\u001b[0;32m~/Code/testing/mikro/api/schema.py\u001b[0m in \u001b[0;36mcreate_roi\u001b[0;34m(representation, vectors, creator, type, rath)\u001b[0m\n\u001b[1;32m   2011\u001b[0m     \u001b[0mReturns\u001b[0m\u001b[0;34m:\u001b[0m\u001b[0;34m\u001b[0m\u001b[0;34m\u001b[0m\u001b[0m\n\u001b[1;32m   2012\u001b[0m         ROIFragment\"\"\"\n\u001b[0;32m-> 2013\u001b[0;31m     return execute(\n\u001b[0m\u001b[1;32m   2014\u001b[0m         \u001b[0mCreate_roiMutation\u001b[0m\u001b[0;34m,\u001b[0m\u001b[0;34m\u001b[0m\u001b[0;34m\u001b[0m\u001b[0m\n\u001b[1;32m   2015\u001b[0m         {\n",
      "\u001b[0;32m~/Code/testing/mikro/funcs.py\u001b[0m in \u001b[0;36mexecute\u001b[0;34m(operation, variables, rath)\u001b[0m\n\u001b[1;32m      8\u001b[0m ):\n\u001b[1;32m      9\u001b[0m     \u001b[0mrath\u001b[0m \u001b[0;34m=\u001b[0m \u001b[0mrath\u001b[0m \u001b[0;32mor\u001b[0m \u001b[0mcurrent_mikro_rath\u001b[0m\u001b[0;34m.\u001b[0m\u001b[0mget\u001b[0m\u001b[0;34m(\u001b[0m\u001b[0;34m)\u001b[0m\u001b[0;34m\u001b[0m\u001b[0;34m\u001b[0m\u001b[0m\n\u001b[0;32m---> 10\u001b[0;31m     \u001b[0;32mreturn\u001b[0m \u001b[0moperation\u001b[0m\u001b[0;34m(\u001b[0m\u001b[0;34m**\u001b[0m\u001b[0mrath\u001b[0m\u001b[0;34m.\u001b[0m\u001b[0mexecute\u001b[0m\u001b[0;34m(\u001b[0m\u001b[0moperation\u001b[0m\u001b[0;34m.\u001b[0m\u001b[0mMeta\u001b[0m\u001b[0;34m.\u001b[0m\u001b[0mdocument\u001b[0m\u001b[0;34m,\u001b[0m \u001b[0mvariables\u001b[0m\u001b[0;34m)\u001b[0m\u001b[0;34m.\u001b[0m\u001b[0mdata\u001b[0m\u001b[0;34m)\u001b[0m\u001b[0;34m\u001b[0m\u001b[0;34m\u001b[0m\u001b[0m\n\u001b[0m\u001b[1;32m     11\u001b[0m \u001b[0;34m\u001b[0m\u001b[0m\n\u001b[1;32m     12\u001b[0m \u001b[0;34m\u001b[0m\u001b[0m\n",
      "\u001b[0;31mAttributeError\u001b[0m: 'NoneType' object has no attribute 'execute'"
     ]
    }
   ],
   "source": [
    "create_roi(x.id, vectors=[InputVector(x=100,y=65), InputVector(x=200,y=34), InputVector(x=300,y=2), InputVector(x=400,y=2)], type=ROIType.RECTANGLE)"
   ]
  },
  {
   "cell_type": "code",
   "execution_count": 15,
   "id": "548ee3fe-4d91-4fe6-ae68-dd9b81b0b734",
   "metadata": {},
   "outputs": [],
   "source": [
    "app.disconnect()"
   ]
  }
 ],
 "metadata": {
  "interpreter": {
   "hash": "a5aaafd4beddd6cb027eb3d795f19231bbf228698d7de65719d3374d6ab77446"
  },
  "kernelspec": {
   "display_name": "Python 3.9.5 ('venv': venv)",
   "language": "python",
   "name": "python3"
  },
  "language_info": {
   "codemirror_mode": {
    "name": "ipython",
    "version": 3
   },
   "file_extension": ".py",
   "mimetype": "text/x-python",
   "name": "python",
   "nbconvert_exporter": "python",
   "pygments_lexer": "ipython3",
   "version": "3.9.5"
  }
 },
 "nbformat": 4,
 "nbformat_minor": 5
}
